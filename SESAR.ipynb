{
 "cells": [
  {
   "cell_type": "code",
   "execution_count": 8,
   "metadata": {},
   "outputs": [],
   "source": [
    "import os\n",
    "import sys\n",
    "import matplotlib.pyplot as plt\n",
    "import numpy as np\n",
    "import pandas as pd\n",
    "from scipy.integrate import odeint\n",
    "import plotly.graph_objects as go\n",
    "import plotly.io as pio\n",
    "pio.renderers.default = \"notebook\"\n",
    "%matplotlib inline\n",
    "plt.style.use('ggplot')"
   ]
  },
  {
   "cell_type": "code",
   "execution_count": 9,
   "metadata": {},
   "outputs": [],
   "source": [
    "from IPython.display import HTML\n",
    "from ipywidgets.widgets import interact, IntSlider, FloatSlider, Layout\n",
    "\n",
    "style = {'description_width': '100px'}\n",
    "slider_layout = Layout(width='99%')"
   ]
  },
  {
   "cell_type": "code",
   "execution_count": 10,
   "metadata": {},
   "outputs": [],
   "source": [
    "def ode_model(z, t, beta, tao, zeta, epsilon, kappa, phi, alpha4, alpha3): #Added all parameters Reordered \n",
    "    S, E, Is, Ia, R = z #Added Is, Ia terms for symptomatic and asymptomatic \n",
    "    N = S + E + Is + Ia + R #Added Is, Ia to the sum\n",
    "    dSdt = -beta*S*(Is + tao*Ia)/N + zeta*E #Added I = Is + Iu and tao*Iu is the reduced transmission rate; zeta*E is the recovery rate from E to S\n",
    "    dEdt = beta*S*(Is + tao*Ia)/N - (epsilon + zeta)*E #Added I and (sigma + zeta)\n",
    "    dIsdt = epsilon*kappa*E - phi*Ia - alpha4*Is # Is symptomatic\n",
    "    dIadt = epsilon*(1 - kappa)*E - (alpha3 + phi)*Ia # Ia asymptomatic\n",
    "    dRdt = alpha4*Is + alpha3*Ia \n",
    " \n",
    "    return [dSdt, dEdt, dIsdt, dIadt, dRdt] #S, E, S, A, R"
   ]
  },
  {
   "cell_type": "code",
   "execution_count": 11,
   "metadata": {},
   "outputs": [],
   "source": [
    "def ode_solver(t, initial_conditions, params):\n",
    "    initE, initIs, initIa, initR, initN= initial_conditions #Added all init names\n",
    "    beta, tao, zeta, epsilon, kappa, phi, alpha4, alpha3 = params #Added all parameters\n",
    "    initS = initN - (initE + initIs + initIa + initR)\n",
    "    res = odeint(ode_model, [initS, initE, initIs, initIa, initR], t, args=(beta, tao, zeta, epsilon, kappa, phi, alpha4, alpha3))\n",
    "    return res"
   ]
  },
  {
   "cell_type": "code",
   "execution_count": 23,
   "metadata": {},
   "outputs": [],
   "source": [
    "# ref: https://www.medrxiv.org/content/10.1101/2020.04.01.20049825v1.full.pdf\n",
    "initN = 2930000\n",
    "initE = 1\n",
    "initIs = 1\n",
    "initIa = 1\n",
    "initR = 0\n",
    "beta = 2\n",
    "tao = 0.2\n",
    "zeta = 0.05\n",
    "epsilon = 0.95\n",
    "kappa = 0.8\n",
    "phi = 0.7\n",
    "alpha4 = 0.12\n",
    "alpha3 = 0.2\n",
    "days = 200"
   ]
  },
  {
   "cell_type": "code",
   "execution_count": 24,
   "metadata": {},
   "outputs": [],
   "source": [
    "def main(initE, initIs, initIa, initR, initN, beta, tao, zeta, epsilon, kappa, phi, alpha4, alpha3, days):\n",
    "    initial_conditions = [initE, initIs, initIa, initR, initN]\n",
    "    params = [beta, tao, zeta, epsilon, kappa, phi, alpha4, alpha3]\n",
    "    tspan = np.arange(0, days, 1)\n",
    "    sol = ode_solver(tspan, initial_conditions, params)\n",
    "    S, E, Is, Ia, R = sol[:, 0], sol[:, 1], sol[:, 2], sol[:, 3], sol[:, 4]\n",
    "    \n",
    "    # Create traces\n",
    "    fig = go.Figure()\n",
    "    fig.add_trace(go.Scatter(x=tspan, y=S, mode='lines+markers', name='Susceptible'))\n",
    "    fig.add_trace(go.Scatter(x=tspan, y=E, mode='lines+markers', name='Exposed'))\n",
    "    fig.add_trace(go.Scatter(x=tspan, y=Is, mode='lines+markers', name='Symptomatic Infected'))\n",
    "    fig.add_trace(go.Scatter(x=tspan, y=Ia, mode='lines+markers', name='Asymptomatic Infected'))\n",
    "    fig.add_trace(go.Scatter(x=tspan, y=R, mode='lines+markers',name='Recovered'))\n",
    "    \n",
    "    if days <= 30:\n",
    "        step = 1\n",
    "    elif days <= 90:\n",
    "        step = 7\n",
    "    else:\n",
    "        step = 30\n",
    "    \n",
    "    # Edit the layout\n",
    "    fig.update_layout(title='Simulation of SESAR Model',\n",
    "                       xaxis_title='Day',\n",
    "                       yaxis_title='Counts',\n",
    "                       title_x=0.5,\n",
    "                      width=900, height=600\n",
    "                     )\n",
    "    fig.update_xaxes(tickangle=-90, tickformat = None, tickmode='array', tickvals=np.arange(0, days + 1, step))\n",
    "    if not os.path.exists(\"images\"):\n",
    "        os.mkdir(\"images\")\n",
    "    #fig.write_image(\"images/seird_simulation.png\")\n",
    "    fig.show()"
   ]
  },
  {
   "cell_type": "code",
   "execution_count": 25,
   "metadata": {
    "scrolled": false
   },
   "outputs": [
    {
     "data": {
      "application/vnd.jupyter.widget-view+json": {
       "model_id": "1ec3897db64147c7aaedaefc3c7ce5af",
       "version_major": 2,
       "version_minor": 0
      },
      "text/plain": [
       "interactive(children=(IntSlider(value=1, description='initE', layout=Layout(width='99%'), max=100000, style=Sl…"
      ]
     },
     "metadata": {},
     "output_type": "display_data"
    }
   ],
   "source": [
    "interact(main, \n",
    "         initE=IntSlider(min=0, max=100000, step=1, value=initE, description='initE', style=style, layout=slider_layout),\n",
    "         initIs=IntSlider(min=0, max=100000, step=10, value=initIs, description='initIs', style=style, layout=slider_layout),\n",
    "         initIa=IntSlider(min=0, max=100000, step=10, value=initIa, description='initIa', style=style, layout=slider_layout),\n",
    "         initR=IntSlider(min=0, max=100000, step=10, value=initR, description='initR', style=style, layout=slider_layout),\n",
    "         initN=IntSlider(min=0, max=1380000000, step=1000, value=initN, description='initN', style=style, layout=slider_layout),\n",
    "         beta=FloatSlider(min=0, max=4, step=0.01, value=beta, description='Infection rate', style=style, layout=slider_layout),\n",
    "         tao=FloatSlider(min=0, max=1, step=0.01, value=tao, description='Asymptomatic Reduced Infection Rate', style=style, layout=slider_layout),\n",
    "         zeta=FloatSlider(min=0, max=1, step=0.01, value=zeta, description='Recovery from Exposure rate', style=style, layout=slider_layout),\n",
    "         epsilon=FloatSlider(min=0, max=1, step=0.01, value=epsilon, description='Exposure to Infection rate', style=style, layout=slider_layout), \n",
    "         kappa=FloatSlider(min=0, max=1, step=0.01, value=kappa, description='% Symptomatic Infection', style=style, layout=slider_layout),\n",
    "         phi=FloatSlider(min=0, max=1, step=0.01, value=phi, description='Asymptomatic to Symptomatic rate', style=style, layout=slider_layout),\n",
    "         alpha4=FloatSlider(min=0, max=1, step=0.01, value=alpha4, description='Symptomatic Recovery rate', style=style, layout=slider_layout),\n",
    "         alpha3=FloatSlider(min=0, max=1, step=0.01, value=alpha3, description='Asymptomatic Recovery rate', style=style, layout=slider_layout),\n",
    "         days=IntSlider(min=1, max=600, step=7, value=days, description='Days', style=style, layout=slider_layout)\n",
    "        );"
   ]
  },
  {
   "cell_type": "code",
   "execution_count": null,
   "metadata": {},
   "outputs": [],
   "source": []
  },
  {
   "cell_type": "code",
   "execution_count": null,
   "metadata": {},
   "outputs": [],
   "source": []
  }
 ],
 "metadata": {
  "kernelspec": {
   "display_name": "Python 3",
   "language": "python",
   "name": "python3"
  },
  "language_info": {
   "codemirror_mode": {
    "name": "ipython",
    "version": 3
   },
   "file_extension": ".py",
   "mimetype": "text/x-python",
   "name": "python",
   "nbconvert_exporter": "python",
   "pygments_lexer": "ipython3",
   "version": "3.7.6"
  }
 },
 "nbformat": 4,
 "nbformat_minor": 4
}
