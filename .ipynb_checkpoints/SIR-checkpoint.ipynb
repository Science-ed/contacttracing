{
 "cells": [
  {
   "cell_type": "markdown",
   "metadata": {},
   "source": [
    "### SIR Model\n",
    "\n",
    "The SIR compartmental model for infectious diseases, splits the population into 3 classes. Individuals who are *susceptible* to contracting the disease, individuals who are *infectious* (have contracted the disease themselves are are able to infcet others) and those who have *recovered* from the disease and are now immune. The model may be represented by a set of differential equations\n",
    "\n",
    "$$ \tdS/dt = - \\beta I S/N $$\n",
    "$$\tdI/dt =  \\beta I S/N  - \\gamma I $$\n",
    "$$\tdR/dt = \\gamma I  $$\n",
    "\n",
    "where $S(t)$, $I(t)$ and $R(t)$ represent the number of individuals in the *susceptible*, *infectious* and *recovered* classes, respectively. Note that "
   ]
  },
  {
   "cell_type": "code",
   "execution_count": 7,
   "metadata": {},
   "outputs": [],
   "source": [
    "import os\n",
    "import sys\n",
    "import matplotlib.pyplot as plt\n",
    "import numpy as np\n",
    "import pandas as pd\n",
    "from scipy.integrate import odeint\n",
    "import plotly.graph_objects as go\n",
    "import plotly.io as pio\n",
    "pio.renderers.default = \"notebook\"\n",
    "%matplotlib inline\n",
    "plt.style.use('ggplot')"
   ]
  },
  {
   "cell_type": "code",
   "execution_count": 8,
   "metadata": {},
   "outputs": [],
   "source": [
    "from IPython.display import HTML\n",
    "from ipywidgets.widgets import interact, IntSlider, FloatSlider, Layout\n",
    "\n",
    "style = {'description_width': '100px'}\n",
    "slider_layout = Layout(width='99%')"
   ]
  },
  {
   "cell_type": "code",
   "execution_count": 9,
   "metadata": {},
   "outputs": [],
   "source": [
    "def ode_model(z, t, beta, gamma):\n",
    "# no E, no sigma, no incubation\n",
    "    S, I, R = z\n",
    "    N = S + I + R\n",
    "    dSdt = -beta*S*I/N\n",
    "    dIdt = beta*S*I/N - gamma*I\n",
    "    dRdt = gamma*I\n",
    "    return [dSdt, dIdt, dRdt]"
   ]
  },
  {
   "cell_type": "code",
   "execution_count": 10,
   "metadata": {},
   "outputs": [],
   "source": [
    "def ode_solver(t, initial_conditions, params):\n",
    "    initI, initR, initN = initial_conditions\n",
    "    beta, gamma = params\n",
    "    initS = initN - (initI + initR)\n",
    "    res = odeint(ode_model, [initS, initI, initR], t, args=(beta, gamma))\n",
    "    return res"
   ]
  },
  {
   "cell_type": "code",
   "execution_count": 11,
   "metadata": {},
   "outputs": [],
   "source": [
    "# ref: https://www.medrxiv.org/content/10.1101/2020.04.01.20049825v1.full.pdf\n",
    "# explain what is R0 and its effect on gamma\n",
    "initN = 1380000000\n",
    "initI = 1\n",
    "initR = 0\n",
    "gamma = 1/2.9\n",
    "R0 = 4\n",
    "beta = R0 * gamma\n",
    "days = 150"
   ]
  },
  {
   "cell_type": "code",
   "execution_count": 12,
   "metadata": {},
   "outputs": [],
   "source": [
    "def main(initI, initR, initN, beta, gamma, days):\n",
    "    initial_conditions = [initI, initR, initN]\n",
    "    params = [beta, gamma]\n",
    "    tspan = np.arange(0, days, 1)\n",
    "    sol = ode_solver(tspan, initial_conditions, params)\n",
    "    S, I, R = sol[:, 0], sol[:, 1], sol[:, 2]\n",
    "    # Create traces\n",
    "    fig = go.Figure()\n",
    "    fig.add_trace(go.Scatter(x=tspan, y=S, mode='lines+markers', name='Susceptible'))\n",
    "    fig.add_trace(go.Scatter(x=tspan, y=I, mode='lines+markers', name='Infected'))\n",
    "    fig.add_trace(go.Scatter(x=tspan, y=R, mode='lines+markers',name='Recovered'))\n",
    "       \n",
    "    if days <= 30:\n",
    "        step = 1\n",
    "    elif days <= 90:\n",
    "        step = 7\n",
    "    else:\n",
    "        step = 30\n",
    "    # Edit the layout\n",
    "    fig.update_layout(title='Simulation of SIR Model',xaxis_title='Day', yaxis_title='Counts', title_x=0.5, width=900, height=600)\n",
    "    fig.update_xaxes(tickangle=-90, tickformat = None, tickmode='array', tickvals=np.arange(0, days + 1, step))\n",
    "    if not os.path.exists(\"images\"):\n",
    "        os.mkdir(\"images\")\n",
    "    #fig.write_image(\"seir_simulation.png\")\n",
    "    fig.show()"
   ]
  },
  {
   "cell_type": "code",
   "execution_count": 13,
   "metadata": {},
   "outputs": [
    {
     "data": {
      "application/vnd.jupyter.widget-view+json": {
       "model_id": "9f9a76e4bb52451f97f8f8f88ea353ae",
       "version_major": 2,
       "version_minor": 0
      },
      "text/plain": [
       "interactive(children=(IntSlider(value=1, description='initI', layout=Layout(width='99%'), max=100000, step=10,…"
      ]
     },
     "metadata": {},
     "output_type": "display_data"
    }
   ],
   "source": [
    "interact(main, initI=IntSlider(min=0, max=100000, step=10, value=initI, description='initI', style=style, layout=slider_layout),\n",
    "        initR=IntSlider(min=0, max=100000, step=10, value=initR, description='initR', style=style, layout=slider_layout),\n",
    "        initN=IntSlider(min=0, max=1380000000, step=1000, value=initN, description='initN', style=style, layout=slider_layout),\n",
    "        beta=FloatSlider(min=0, max=4, step=0.01, value=beta, description='Infection rate', style=style, layout=slider_layout),\n",
    "        gamma=FloatSlider(min=0, max=4, step=0.01, value=gamma, description='Recovery rate', style=style, layout=slider_layout),\n",
    "        days=IntSlider(min=1, max=600, step=7, value=days, description='Days', style=style, layout=slider_layout));"
   ]
  },
  {
   "cell_type": "code",
   "execution_count": null,
   "metadata": {},
   "outputs": [],
   "source": []
  }
 ],
 "metadata": {
  "kernelspec": {
   "display_name": "Python 3",
   "language": "python",
   "name": "python3"
  },
  "language_info": {
   "codemirror_mode": {
    "name": "ipython",
    "version": 3
   },
   "file_extension": ".py",
   "mimetype": "text/x-python",
   "name": "python",
   "nbconvert_exporter": "python",
   "pygments_lexer": "ipython3",
   "version": "3.7.4"
  }
 },
 "nbformat": 4,
 "nbformat_minor": 4
}
