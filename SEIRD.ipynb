{
 "cells": [
  {
   "cell_type": "markdown",
   "metadata": {},
   "source": [
    "### SEIRD Model\n",
    "\n",
    "The SEIR model may be further extended by considering deaths caused by the disease and introducing a ***deceased*** class. The SEIRD model without vital dynamics is given by\n",
    "\n",
    "$$ dS/dt = - \\beta I S/N   $$\n",
    "$$ \tdE/dt = \\beta I S /N - \\epsilon E  $$\n",
    "$$ \tdI/dt = \\epsilon E - \\gamma I $$\n",
    "$$ dR/dt = \\gamma I $$\n",
    "$$ \tdD/dt = \\delta I $$\n",
    "\n",
    "where $\\delta$ is the *mortality rate* of the disease, given by \n",
    "\n",
    "$$ \\delta = \\frac{\\text{# of deaths}}{\\text{total # of cases}} $$\n",
    "\n",
    "\n",
    "Note that an accurate value of mortality rate is generally difficult to obtain in the absence of widespread testing of the disease, especially in the case of asymptomatic hosts.  \n",
    "\n",
    "**for more detailed notes, see the compartmental models writeup in the github repository*"
   ]
  },
  {
   "cell_type": "code",
   "execution_count": 1,
   "metadata": {},
   "outputs": [],
   "source": [
    "    #Simulating Compartmental Models in Epidemiology using Python & Jupyter Widgets by Abhay Shukla\n",
    "import os\n",
    "import sys\n",
    "import matplotlib.pyplot as plt\n",
    "import numpy as np\n",
    "import pandas as pd\n",
    "from scipy.integrate import odeint\n",
    "import plotly.graph_objects as go\n",
    "import plotly.io as pio\n",
    "pio.renderers.default = \"notebook\"\n",
    "%matplotlib inline\n",
    "plt.style.use('ggplot')"
   ]
  },
  {
   "cell_type": "code",
   "execution_count": 2,
   "metadata": {},
   "outputs": [],
   "source": [
    "from IPython.display import HTML\n",
    "from ipywidgets.widgets import interact, IntSlider, FloatSlider, Layout\n",
    "\n",
    "style = {'description_width': '100px'}\n",
    "slider_layout = Layout(width='99%')"
   ]
  },
  {
   "cell_type": "code",
   "execution_count": 3,
   "metadata": {},
   "outputs": [],
   "source": [
    "def ode_model(z, t, beta, sigma, gamma, mu):\n",
    "    S, E, I, R, D = z\n",
    "    N = S + E + I + R + D\n",
    "    dSdt = -beta*S*I/N\n",
    "    dEdt = beta*S*I/N - sigma*E\n",
    "    dIdt = sigma*E - gamma*I - mu*I\n",
    "    dRdt = gamma*I\n",
    "    dDdt = mu*I\n",
    "    return [dSdt, dEdt, dIdt, dRdt, dDdt]"
   ]
  },
  {
   "cell_type": "code",
   "execution_count": 4,
   "metadata": {},
   "outputs": [],
   "source": [
    "def ode_solver(t, initial_conditions, params):\n",
    "    initE, initI, initR, initN, initD = initial_conditions\n",
    "    beta, sigma, gamma, mu = params\n",
    "    initS = initN - (initE + initI + initR + initD)\n",
    "    res = odeint(ode_model, [initS, initE, initI, initR, initD], t, args=(beta, sigma, gamma, mu))\n",
    "    return res"
   ]
  },
  {
   "cell_type": "code",
   "execution_count": 5,
   "metadata": {},
   "outputs": [],
   "source": [
    "# ref: https://www.medrxiv.org/content/10.1101/2020.04.01.20049825v1.full.pdf\n",
    "initN = 1380000000\n",
    "    # S0 = 966000000\n",
    "initE = 1\n",
    "initI = 1\n",
    "initR = 0\n",
    "initD = 0\n",
    "sigma = 1/5.2\n",
    "gamma = 1/2.9\n",
    "mu = 1/20\n",
    "R0 = 4\n",
    "beta = R0 * gamma\n",
    "days = 150"
   ]
  },
  {
   "cell_type": "code",
   "execution_count": 6,
   "metadata": {},
   "outputs": [],
   "source": [
    "def main(initE, initI, initR, initD, initN, beta, sigma, gamma, mu, days):\n",
    "    initial_conditions = [initE, initI, initR, initN, initD]\n",
    "    params = [beta, sigma, gamma, mu]\n",
    "    tspan = np.arange(0, days, 1)\n",
    "    sol = ode_solver(tspan, initial_conditions, params)\n",
    "    S, E, I, R, D = sol[:, 0], sol[:, 1], sol[:, 2], sol[:, 3], sol[:, 4]\n",
    "    \n",
    "    # Create traces\n",
    "    fig = go.Figure()\n",
    "    fig.add_trace(go.Scatter(x=tspan, y=S, mode='lines+markers', name='Susceptible'))\n",
    "    fig.add_trace(go.Scatter(x=tspan, y=E, mode='lines+markers', name='Exposed'))\n",
    "    fig.add_trace(go.Scatter(x=tspan, y=I, mode='lines+markers', name='Infected'))\n",
    "    fig.add_trace(go.Scatter(x=tspan, y=R, mode='lines+markers',name='Recovered'))\n",
    "    fig.add_trace(go.Scatter(x=tspan, y=D, mode='lines+markers',name='Death'))\n",
    "    \n",
    "    if days <= 30:\n",
    "        step = 1\n",
    "    elif days <= 90:\n",
    "        step = 7\n",
    "    else:\n",
    "        step = 30\n",
    "    \n",
    "    # Edit the layout\n",
    "    fig.update_layout(title='Simulation of SEIRD Model',\n",
    "                       xaxis_title='Day',\n",
    "                       yaxis_title='Counts',\n",
    "                       title_x=0.5,\n",
    "                      width=900, height=600\n",
    "                     )\n",
    "    fig.update_xaxes(tickangle=-90, tickformat = None, tickmode='array', tickvals=np.arange(0, days + 1, step))\n",
    "    if not os.path.exists(\"images\"):\n",
    "        os.mkdir(\"images\")\n",
    "    #fig.write_image(\"images/seird_simulation.png\")\n",
    "    fig.show()"
   ]
  },
  {
   "cell_type": "code",
   "execution_count": 8,
   "metadata": {},
   "outputs": [
    {
     "data": {
      "application/vnd.jupyter.widget-view+json": {
       "model_id": "536371286c0a443f9f750505dbd1c6fc",
       "version_major": 2,
       "version_minor": 0
      },
      "text/plain": [
       "interactive(children=(IntSlider(value=1, description='initE', layout=Layout(width='99%'), max=100000, style=Sl…"
      ]
     },
     "metadata": {},
     "output_type": "display_data"
    }
   ],
   "source": [
    "interact(main, \n",
    "         initE=IntSlider(min=0, max=100000, step=1, value=initE, description='initE', style=style, layout=slider_layout),\n",
    "         initI=IntSlider(min=0, max=100000, step=10, value=initI, description='initI', style=style, layout=slider_layout),\n",
    "         initR=IntSlider(min=0, max=100000, step=10, value=initR, description='initR', style=style, layout=slider_layout),\n",
    "         initD=IntSlider(min=0, max=100000, step=10, value=initD, description='initD', style=style, layout=slider_layout),\n",
    "         initN=IntSlider(min=0, max=1380000000, step=1000, value=initN, description='initN', style=style, layout=slider_layout),\n",
    "         beta=FloatSlider(min=0, max=4, step=0.01, value=beta, description='Infection rate', style=style, layout=slider_layout),\n",
    "         sigma=FloatSlider(min=0, max=4, step=0.01, value=sigma, description='Latent rate', style=style, layout=slider_layout),\n",
    "         gamma=FloatSlider(min=0, max=4, step=0.01, value=gamma, description='Recovery rate', style=style, layout=slider_layout),\n",
    "         mu=FloatSlider(min=0, max=1, step=0.01, value=mu, description='Mortality rate', style=style, layout=slider_layout),\n",
    "         days=IntSlider(min=1, max=600, step=7, value=days, description='Days', style=style, layout=slider_layout)\n",
    "        );"
   ]
  },
  {
   "cell_type": "code",
   "execution_count": null,
   "metadata": {},
   "outputs": [],
   "source": []
  }
 ],
 "metadata": {
  "kernelspec": {
   "display_name": "Python 3",
   "language": "python",
   "name": "python3"
  },
  "language_info": {
   "codemirror_mode": {
    "name": "ipython",
    "version": 3
   },
   "file_extension": ".py",
   "mimetype": "text/x-python",
   "name": "python",
   "nbconvert_exporter": "python",
   "pygments_lexer": "ipython3",
   "version": "3.7.4"
  }
 },
 "nbformat": 4,
 "nbformat_minor": 4
}
