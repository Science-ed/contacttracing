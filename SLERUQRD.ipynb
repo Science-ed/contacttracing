{
 "cells": [
  {
   "cell_type": "code",
   "execution_count": 35,
   "metadata": {},
   "outputs": [],
   "source": [
    "import os\n",
    "import sys\n",
    "import matplotlib.pyplot as plt\n",
    "import numpy as np\n",
    "import pandas as pd\n",
    "from scipy.integrate import odeint\n",
    "import plotly.graph_objects as go\n",
    "import plotly.io as pio\n",
    "pio.renderers.default = \"notebook\"\n",
    "%matplotlib inline\n",
    "plt.style.use('ggplot')"
   ]
  },
  {
   "cell_type": "code",
   "execution_count": 36,
   "metadata": {},
   "outputs": [],
   "source": [
    "from IPython.display import HTML\n",
    "from ipywidgets.widgets import interact, IntSlider, FloatSlider, Layout\n",
    "\n",
    "style = {'description_width': '100px'}\n",
    "slider_layout = Layout(width='99%')"
   ]
  },
  {
   "cell_type": "code",
   "execution_count": 70,
   "metadata": {},
   "outputs": [],
   "source": [
    "def ode_model(z, t, beta, tao, zeta, eta, delta, epsilon, kappa, phi, theta1, theta2, alpha2, alpha1, sigma): #Added all parameters Reordered \n",
    "    S, L, E, Ir, Iu, Q, R, D = z #Added Is, Ia Q D terms for reported and unreported cases\n",
    "    N = S + L + E + Ir + Iu + Q + R + D #Added Ir, Iu, Q, D to the sum\n",
    "    dSdt = -beta*S*(Ir + tao*Iu)/N - eta*S + delta*L + zeta*E #Added I = Ir + Iu and tao*Iu is the reduced transmission rate; zeta*E is the recovery rate from E to S; eta and delta are related to the lockdown\n",
    "    dLdt = eta*S -delta*L ##\n",
    "    dEdt = beta*S*(Ir + tao*Iu)/N - (epsilon + zeta)*E #Added I and (sigma + zeta)\n",
    "    dIrdt = epsilon*kappa*E - phi*Iu - theta1*Ir \n",
    "    dIudt = epsilon*(1 - kappa)*E - (theta2 + phi)*Iu # Iu unreported\n",
    "    dQdt = theta1*Ir + theta2*Iu - alpha1*Q\n",
    "    dRdt = alpha2*Iu + alpha1*Q - sigma*R\n",
    "    dDdt = sigma*R\n",
    "    \n",
    "    return [dSdt, dLdt, dEdt, dIrdt, dIudt, dQdt, dRdt, dDdt] #S, L, E, R, U, Q, R, D"
   ]
  },
  {
   "cell_type": "code",
   "execution_count": 71,
   "metadata": {},
   "outputs": [],
   "source": [
    "def ode_solver(t, initial_conditions, params):\n",
    "    initE, initL, initIr, initIu, initQ, initR, initD, initN= initial_conditions #Added all init names\n",
    "    beta, tao, zeta, eta, delta, epsilon, kappa, phi, theta1, theta2, alpha2, alpha1, sigma = params #Added all parameters\n",
    "    initS = initN - (initL + initE + initIr + initIu + initQ + initR + initD)\n",
    "    res = odeint(ode_model, [initS, initL, initE, initIr, initIu, initQ, initR, initD], t, args=(beta, tao, zeta, eta, delta, epsilon, kappa, phi, theta1, theta2, alpha2, alpha1, sigma))\n",
    "    return res"
   ]
  },
  {
   "cell_type": "code",
   "execution_count": 72,
   "metadata": {},
   "outputs": [],
   "source": [
    "# ref: https://www.medrxiv.org/content/10.1101/2020.04.01.20049825v1.full.pdf\n",
    "#NOTE: those initial conditions do not represent any physical meaning, test number only\n",
    "initN = 2930000\n",
    "initL = 0\n",
    "initE = 1\n",
    "initIr = 1\n",
    "initIu = 1\n",
    "initQ = 0\n",
    "initR = 0\n",
    "initD = 0\n",
    "beta = 2\n",
    "tao = 0.2\n",
    "zeta = 0.05\n",
    "eta = 0.04\n",
    "delta = 0.01\n",
    "epsilon = 0.95\n",
    "kappa = 0.8\n",
    "phi = 0.7\n",
    "theta1 = 0.2\n",
    "theta2 = 0.13\n",
    "alpha2 = 0.12\n",
    "alpha1 = 0.2\n",
    "sigma = 0.05\n",
    "days = 200"
   ]
  },
  {
   "cell_type": "code",
   "execution_count": 73,
   "metadata": {},
   "outputs": [],
   "source": [
    "def main(initL, initE, initIr, initIu, initQ, initR, initD, initN, beta, tao, zeta, eta, delta, epsilon, kappa, phi, theta1, theta2, alpha2, alpha1, sigma, days):\n",
    "    initial_conditions = [initL, initE, initIr, initIu, initQ, initR, initD, initN]\n",
    "    params = [beta, tao, zeta, eta, delta, epsilon, kappa, phi, theta1, theta2, alpha2, alpha1, sigma]\n",
    "    tspan = np.arange(0, days, 1)\n",
    "    sol = ode_solver(tspan, initial_conditions, params)\n",
    "    S, L, E, Ir, Iu, Q, R, D = sol[:, 0], sol[:, 1], sol[:, 2], sol[:, 3], sol[:, 4], sol[:, 5], sol[:, 6], sol[:, 7]\n",
    "    \n",
    "    # Create traces\n",
    "    fig = go.Figure()\n",
    "    fig.add_trace(go.Scatter(x=tspan, y=S, mode='lines+markers', name='Susceptible'))\n",
    "    fig.add_trace(go.Scatter(x=tspan, y=L, mode='lines+markers', name='Lockdown'))\n",
    "    fig.add_trace(go.Scatter(x=tspan, y=E, mode='lines+markers', name='Exposed'))\n",
    "    fig.add_trace(go.Scatter(x=tspan, y=Ir, mode='lines+markers', name='Reported Infected'))\n",
    "    fig.add_trace(go.Scatter(x=tspan, y=Iu, mode='lines+markers', name='Unreported Infected'))\n",
    "    fig.add_trace(go.Scatter(x=tspan, y=Q, mode='lines+markers', name='Quarantine'))\n",
    "    fig.add_trace(go.Scatter(x=tspan, y=R, mode='lines+markers',name='Recovered'))\n",
    "    fig.add_trace(go.Scatter(x=tspan, y=D, mode='lines+markers', name='Deceased'))\n",
    "    \n",
    "    if days <= 30:\n",
    "        step = 1\n",
    "    elif days <= 90:\n",
    "        step = 7\n",
    "    else:\n",
    "        step = 30\n",
    "    \n",
    "    # Edit the layout\n",
    "    fig.update_layout(title='Simulation of SLERUQRD Model',\n",
    "                       xaxis_title='Day',\n",
    "                       yaxis_title='Counts',\n",
    "                       title_x=0.5,\n",
    "                      width=900, height=600\n",
    "                     )\n",
    "    fig.update_xaxes(tickangle=-90, tickformat = None, tickmode='array', tickvals=np.arange(0, days + 1, step))\n",
    "    if not os.path.exists(\"images\"):\n",
    "        os.mkdir(\"images\")\n",
    "    #fig.write_image(\"images/seird_simulation.png\")\n",
    "    fig.show()"
   ]
  },
  {
   "cell_type": "code",
   "execution_count": 74,
   "metadata": {
    "scrolled": false
   },
   "outputs": [
    {
     "data": {
      "application/vnd.jupyter.widget-view+json": {
       "model_id": "f61c0f4448134dc39020e74905e5b4e6",
       "version_major": 2,
       "version_minor": 0
      },
      "text/plain": [
       "interactive(children=(IntSlider(value=0, description='initL', layout=Layout(width='99%'), max=100000, style=Sl…"
      ]
     },
     "metadata": {},
     "output_type": "display_data"
    }
   ],
   "source": [
    "interact(main, \n",
    "         initE=IntSlider(min=0, max=100000, step=1, value=initE, description='initE', style=style, layout=slider_layout),\n",
    "         initL=IntSlider(min=0, max=100000, step=1, value=initL, description='initL', style=style, layout=slider_layout),\n",
    "         initIr=IntSlider(min=0, max=100000, step=10, value=initIr, description='initIr', style=style, layout=slider_layout),\n",
    "         initIu=IntSlider(min=0, max=100000, step=10, value=initIu, description='initIu', style=style, layout=slider_layout),\n",
    "         initQ=IntSlider(min=0, max=100000, step=10, value=initQ, description='initQ', style=style, layout=slider_layout),\n",
    "         initR=IntSlider(min=0, max=100000, step=10, value=initR, description='initR', style=style, layout=slider_layout),\n",
    "         initD=IntSlider(min=0, max=100000, step=10, value=initD, description='initD', style=style, layout=slider_layout),\n",
    "         initN=IntSlider(min=0, max=1380000000, step=1000, value=initN, description='initN', style=style, layout=slider_layout),\n",
    "         beta=FloatSlider(min=0, max=4, step=0.01, value=beta, description='Infection rate', style=style, layout=slider_layout),\n",
    "         tao=FloatSlider(min=0, max=1, step=0.01, value=tao, description='Unreported Reduced/Increased Infection Rate', style=style, layout=slider_layout),\n",
    "         zeta=FloatSlider(min=0, max=1, step=0.01, value=zeta, description='Recovery from Exposure rate', style=style, layout=slider_layout),\n",
    "         eta=FloatSlider(min=0, max=1, step=0.01, value=eta, description='Lockdown Rate', style=style, layout=slider_layout),\n",
    "         delta=FloatSlider(min=0, max=1, step=0.01, value=delta, description='Lockdown Exit Rate', style=style, layout=slider_layout),\n",
    "         epsilon=FloatSlider(min=0, max=1, step=0.01, value=epsilon, description='Exposure to Infection rate', style=style, layout=slider_layout), \n",
    "         kappa=FloatSlider(min=0, max=1, step=0.01, value=kappa, description='% Reported Infection', style=style, layout=slider_layout),\n",
    "         phi=FloatSlider(min=0, max=1, step=0.01, value=phi, description='Unreported to Reported rate', style=style, layout=slider_layout),\n",
    "         theta1=FloatSlider(min=0, max=1, step=0.01, value=theta1, description='Reported to Quarantine rate', style=style, layout=slider_layout),\n",
    "         theta2=FloatSlider(min=0, max=1, step=0.01, value=theta2, description='Unreported to Quarantine rate', style=style, layout=slider_layout),\n",
    "         alpha2=FloatSlider(min=0, max=1, step=0.01, value=alpha2, description='Unreported Recovery rate', style=style, layout=slider_layout),\n",
    "         alpha1=FloatSlider(min=0, max=1, step=0.01, value=alpha1, description='Quarantine Recovery rate', style=style, layout=slider_layout),\n",
    "         sigma=FloatSlider(min=0, max=1, step=0.01, value=sigma, description='Death rate', style=style, layout=slider_layout),\n",
    "         days=IntSlider(min=1, max=600, step=7, value=days, description='Days', style=style, layout=slider_layout)\n",
    "        );"
   ]
  },
  {
   "cell_type": "code",
   "execution_count": null,
   "metadata": {},
   "outputs": [],
   "source": []
  },
  {
   "cell_type": "code",
   "execution_count": null,
   "metadata": {},
   "outputs": [],
   "source": []
  }
 ],
 "metadata": {
  "kernelspec": {
   "display_name": "Python 3",
   "language": "python",
   "name": "python3"
  },
  "language_info": {
   "codemirror_mode": {
    "name": "ipython",
    "version": 3
   },
   "file_extension": ".py",
   "mimetype": "text/x-python",
   "name": "python",
   "nbconvert_exporter": "python",
   "pygments_lexer": "ipython3",
   "version": "3.7.6"
  }
 },
 "nbformat": 4,
 "nbformat_minor": 4
}
